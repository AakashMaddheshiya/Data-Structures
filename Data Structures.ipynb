{
 "cells": [
  {
   "cell_type": "markdown",
   "id": "a8796913",
   "metadata": {},
   "source": [
    "# Q1 Write a code to reverse a string."
   ]
  },
  {
   "cell_type": "code",
   "execution_count": 6,
   "id": "9fb2b7c9",
   "metadata": {},
   "outputs": [
    {
     "name": "stdout",
     "output_type": "stream",
     "text": [
      "hsakaA\n",
      "hsakaA\n",
      "hsakaA \n"
     ]
    }
   ],
   "source": [
    "# First Method\n",
    "a=\"Aakash\"\n",
    "a_reverse=a[::-1]\n",
    "print(a_reverse)\n",
    "\n",
    "# Second Method\n",
    "reverse_string=\"\".join(reversed(a))\n",
    "print(reverse_string)\n",
    "\n",
    "# Third Method\n",
    "re_string=\" \"\n",
    "for i in a:\n",
    "    re_string=i+re_string\n",
    "print(re_string)\n"
   ]
  },
  {
   "cell_type": "markdown",
   "id": "a0099fdf",
   "metadata": {},
   "source": [
    "# Q2 Write a code to count the number of vowele in a string."
   ]
  },
  {
   "cell_type": "code",
   "execution_count": 20,
   "id": "88ff1b86",
   "metadata": {},
   "outputs": [
    {
     "name": "stdout",
     "output_type": "stream",
     "text": [
      "12\n"
     ]
    }
   ],
   "source": [
    "a=\"Aakaash Maddheshiyaaaaa\"\n",
    "vowels=\"aeiouAEIOU\"\n",
    "count=0\n",
    "for i in a:\n",
    "    if i in vowels:\n",
    "        count+=1\n",
    "\n",
    "print(count)\n",
    "\n",
    "    "
   ]
  },
  {
   "cell_type": "markdown",
   "id": "49fc77c3",
   "metadata": {},
   "source": [
    "# Q3 Write a code to check if  given string is  polindrome or not.\n"
   ]
  },
  {
   "cell_type": "code",
   "execution_count": 21,
   "id": "4ca28eb1",
   "metadata": {},
   "outputs": [
    {
     "name": "stdout",
     "output_type": "stream",
     "text": [
      "It is Polindrome\n"
     ]
    }
   ],
   "source": [
    "a=\"racecar\"\n",
    "reverse_string=a[::-1]\n",
    "if reverse_string==a:\n",
    "    print(\"It is Polindrome\")\n",
    "else:\n",
    "    print(\"It is not Polindrome\")"
   ]
  },
  {
   "cell_type": "markdown",
   "id": "bf383d96",
   "metadata": {},
   "source": [
    "# Q4 Write a code to check if two given string are anagrams of each other.\n"
   ]
  },
  {
   "cell_type": "code",
   "execution_count": 22,
   "id": "403e51fe",
   "metadata": {},
   "outputs": [
    {
     "name": "stdout",
     "output_type": "stream",
     "text": [
      "god and dog are anagrams.\n"
     ]
    }
   ],
   "source": [
    "word1 = \"God\"\n",
    "word2 = \"Dog\"\n",
    "word1 = word1.lower()\n",
    "word2 = word2.lower()\n",
    "sorted_word1 = sorted(word1)\n",
    "sorted_word2 = sorted(word2)\n",
    "\n",
    "if sorted_word1 == sorted_word2:\n",
    "    print(f\"{word1} and {word2} are anagrams.\")\n",
    "else:\n",
    "    print(f\"{word1} and {word2} are not anagrams.\")"
   ]
  },
  {
   "cell_type": "markdown",
   "id": "b3a232bf",
   "metadata": {},
   "source": [
    "# Q5 Write a code to find all accurrences of ' given substring within another string."
   ]
  },
  {
   "cell_type": "code",
   "execution_count": 24,
   "id": "75dfc27a",
   "metadata": {},
   "outputs": [
    {
     "name": "stdout",
     "output_type": "stream",
     "text": [
      "[0, 13]\n"
     ]
    }
   ],
   "source": [
    "main_string = \"hello world, hello again\"\n",
    "substring = \"hello\"\n",
    "\n",
    "occurrences = []\n",
    "index = 0\n",
    "\n",
    "while index < len(main_string):\n",
    "    found_index = main_string.find(substring, index) \n",
    "    if found_index == -1:  \n",
    "        break\n",
    "    occurrences.append(found_index)\n",
    "    index = found_index + 1\n",
    "\n",
    "print(occurrences)  \n",
    "\n",
    "\n"
   ]
  },
  {
   "cell_type": "markdown",
   "id": "d4c89c42",
   "metadata": {},
   "source": [
    "# Q6 Write code to perform string compression using the count of repeated characters."
   ]
  },
  {
   "cell_type": "code",
   "execution_count": 25,
   "id": "3836bbbd",
   "metadata": {},
   "outputs": [
    {
     "name": "stdout",
     "output_type": "stream",
     "text": [
      "a2b1c5a3\n"
     ]
    }
   ],
   "source": [
    "string = \"aabcccccaaa\"\n",
    "\n",
    "compressed_string = \"\"\n",
    "count = 1\n",
    "\n",
    "for i in range(1, len(string)):\n",
    "    if string[i] == string[i - 1]:\n",
    "        count += 1\n",
    "    else:\n",
    "        compressed_string += string[i - 1] + str(count)\n",
    "        count = 1\n",
    "\n",
    "compressed_string += string[-1] + str(count)\n",
    "\n",
    "print(compressed_string)"
   ]
  },
  {
   "cell_type": "markdown",
   "id": "960d4b2d",
   "metadata": {},
   "source": [
    "# Q7 Write code to determine if a string has all unique characters."
   ]
  },
  {
   "cell_type": "code",
   "execution_count": 28,
   "id": "fde659ca",
   "metadata": {},
   "outputs": [
    {
     "name": "stdout",
     "output_type": "stream",
     "text": [
      "Enter your string: dwrfeeed\n",
      "All string characters are not unique\n"
     ]
    }
   ],
   "source": [
    "string = input(\"Enter your string: \")\n",
    "seen_characters = set()\n",
    "for i in string:\n",
    "    if i in seen_characters:\n",
    "        print('All string characters are not unique')\n",
    "        break  \n",
    "    seen_characters.add(i)\n",
    "else: \n",
    "    print('All string characters are unique')\n",
    "    "
   ]
  },
  {
   "cell_type": "markdown",
   "id": "04bd6e60",
   "metadata": {},
   "source": [
    "# Q8 Write  code to convert a given string to uppercase or lowercase"
   ]
  },
  {
   "cell_type": "code",
   "execution_count": 29,
   "id": "9caa454c",
   "metadata": {},
   "outputs": [
    {
     "name": "stdout",
     "output_type": "stream",
     "text": [
      "AAKASH MADDESHIYA\n",
      "aakash maddeshiya\n"
     ]
    }
   ],
   "source": [
    "string=\"AAKASH Maddeshiya\"\n",
    "upper_string=string.upper()\n",
    "lower_string=string.lower()\n",
    "print(upper_string)\n",
    "print(lower_string)"
   ]
  },
  {
   "cell_type": "markdown",
   "id": "7e626f9a",
   "metadata": {},
   "source": [
    "# Q9 Write  code to count the number of words in a string"
   ]
  },
  {
   "cell_type": "code",
   "execution_count": 30,
   "id": "8147a360",
   "metadata": {},
   "outputs": [
    {
     "name": "stdout",
     "output_type": "stream",
     "text": [
      "18\n",
      "18\n"
     ]
    }
   ],
   "source": [
    "string=\"Aakash Maddheshiya\"\n",
    "# first Method\n",
    "length=len(string)\n",
    "print(length)\n",
    "# second Method\n",
    "count=0\n",
    "for i in string:\n",
    "        count+=1\n",
    "print(count)\n"
   ]
  },
  {
   "cell_type": "markdown",
   "id": "2d659d66",
   "metadata": {},
   "source": [
    "# Q10 Write code to concatenate two strings without using the + operator"
   ]
  },
  {
   "cell_type": "code",
   "execution_count": 31,
   "id": "5b9d1d94",
   "metadata": {},
   "outputs": [
    {
     "name": "stdout",
     "output_type": "stream",
     "text": [
      "Aakash Maddheshiya\n"
     ]
    }
   ],
   "source": [
    "str1=\"Aakash\"\n",
    "str2=\"Maddheshiya\"\n",
    "full_str_name=str1 +\" \"+ str2\n",
    "print(full_str_name)"
   ]
  },
  {
   "cell_type": "markdown",
   "id": "f68321a2",
   "metadata": {},
   "source": [
    "# Q11 Write a code to remove occurrences of a specific element from a list."
   ]
  },
  {
   "cell_type": "code",
   "execution_count": 32,
   "id": "ee6cbf9a",
   "metadata": {},
   "outputs": [
    {
     "name": "stdout",
     "output_type": "stream",
     "text": [
      "[3, 4, 5, 6]\n"
     ]
    }
   ],
   "source": [
    "list=[2,3,4,5,6,2]\n",
    "new_list=[]\n",
    "element=2\n",
    "for i in list:\n",
    "    if i!=element:\n",
    "        new_list.append(i)\n",
    "print(new_list)\n",
    "        "
   ]
  },
  {
   "cell_type": "markdown",
   "id": "55e89be6",
   "metadata": {},
   "source": [
    "# Q12 write a code to find the second largest number in a given list of integers"
   ]
  },
  {
   "cell_type": "code",
   "execution_count": 33,
   "id": "47171695",
   "metadata": {},
   "outputs": [
    {
     "name": "stdout",
     "output_type": "stream",
     "text": [
      "Second largest number: 25\n"
     ]
    }
   ],
   "source": [
    "numbers = [10, 5, 20, 15, 30, 25]\n",
    "\n",
    "largest = numbers[0]\n",
    "second_largest = numbers[0]\n",
    "\n",
    "for number in numbers:\n",
    "    if number > largest:\n",
    "        second_largest = largest\n",
    "        largest = number\n",
    "    elif number > second_largest and number != largest:\n",
    "        second_largest = number\n",
    "\n",
    "print(\"Second largest number:\", second_largest)"
   ]
  },
  {
   "cell_type": "markdown",
   "id": "bd1e5253",
   "metadata": {},
   "source": [
    "# Q13 Create a code to count the occurrence of each element in a list and return a dictionary with elements as keys and their counts as values."
   ]
  },
  {
   "cell_type": "code",
   "execution_count": 34,
   "id": "2334f1b0",
   "metadata": {},
   "outputs": [
    {
     "name": "stdout",
     "output_type": "stream",
     "text": [
      "{1: 2, 2: 2, 3: 2, 4: 2, 5: 1}\n"
     ]
    }
   ],
   "source": [
    "list=[1,2,3,4,1,2,4,5,3]\n",
    "dict_count={}\n",
    "for i in list:\n",
    "    if i in dict_count:\n",
    "        dict_count[i]+=1\n",
    "    else:\n",
    "        dict_count[i]=1\n",
    "print(dict_count)"
   ]
  },
  {
   "cell_type": "markdown",
   "id": "e21f13a1",
   "metadata": {},
   "source": [
    "# Q14 Write a code to reverse a list in-place without using the built-in reverse function"
   ]
  },
  {
   "cell_type": "code",
   "execution_count": 35,
   "id": "507c2517",
   "metadata": {},
   "outputs": [
    {
     "name": "stdout",
     "output_type": "stream",
     "text": [
      "[6, 35, 5, 52, 4, 3, 2]\n"
     ]
    }
   ],
   "source": [
    "list=[2,3,4,52,5,35,6]\n",
    "new_list=list[::-1]\n",
    "print(new_list)\n",
    "\n",
    " \n"
   ]
  },
  {
   "cell_type": "markdown",
   "id": "9339c33f",
   "metadata": {},
   "source": [
    "# Q15 Implement a code to find and remove duplicates from a list while preserving the original order of elements."
   ]
  },
  {
   "cell_type": "code",
   "execution_count": 36,
   "id": "9192fc86",
   "metadata": {},
   "outputs": [
    {
     "name": "stdout",
     "output_type": "stream",
     "text": [
      "[1, 2, 3, 4]\n"
     ]
    }
   ],
   "source": [
    "list = [1, 2, 3, 2, 4, 1, 3, 3]\n",
    "seen=set()\n",
    "result=[]\n",
    "for i in list:\n",
    "    if i not in seen:\n",
    "        seen.add(i)\n",
    "        result.append(i)\n",
    "print(result)        \n"
   ]
  },
  {
   "cell_type": "markdown",
   "id": "c68edc3a",
   "metadata": {},
   "source": [
    "# Q16  write a program that determines whether the elements in a given list are arranged in either increasing or decreasing order."
   ]
  },
  {
   "cell_type": "code",
   "execution_count": 37,
   "id": "edaa40fb",
   "metadata": {},
   "outputs": [
    {
     "name": "stdout",
     "output_type": "stream",
     "text": [
      "The list is neither ascending nor descending\n"
     ]
    }
   ],
   "source": [
    "list = [8, 5, 9, 4, 23, 11]\n",
    "\n",
    "is_ascending = True\n",
    "is_descending = True\n",
    "\n",
    "for i in range(len(list) - 1):\n",
    "    if list[i] > list[i + 1]:\n",
    "        is_ascending = False\n",
    "    if list[i] < list[i + 1]:\n",
    "        is_descending = False\n",
    "\n",
    "if is_ascending:\n",
    "    print(\"The list is in ascending order\")\n",
    "elif is_descending:\n",
    "    print(\"The list is in descending order\")\n",
    "else:\n",
    "    print(\"The list is neither ascending nor descending\")\n",
    "        "
   ]
  },
  {
   "cell_type": "markdown",
   "id": "aee33e3a",
   "metadata": {},
   "source": [
    "# Q17 Write ' code to merge two sorted lists into ' a single sorted list'"
   ]
  },
  {
   "cell_type": "code",
   "execution_count": 38,
   "id": "0b6479df",
   "metadata": {},
   "outputs": [
    {
     "name": "stdout",
     "output_type": "stream",
     "text": [
      "[1, 2, 3, 4, 3, 4, 5, 6]\n"
     ]
    }
   ],
   "source": [
    "list1=[1,2,3,4]\n",
    "list2=[3,4,5,6]\n",
    "merge_list=[]\n",
    "i=0\n",
    "j=0\n",
    "while i<len(list1) and i<len(list2):\n",
    "    if list1[i]<=list2[j]:\n",
    "        merge_list.append(list1[i])\n",
    "        i+=1\n",
    "    else:\n",
    "        list[i]>=list2[j]\n",
    "        merge_list.append(list2[j])\n",
    "        j+=1\n",
    "    while i<len(list1):\n",
    "        merge_list.append(list1[i])\n",
    "        i+=1\n",
    "    while j<len(list2):\n",
    "        merge_list.append(list2[j])\n",
    "        j+=1\n",
    "print(merge_list)\n",
    "    \n"
   ]
  },
  {
   "cell_type": "markdown",
   "id": "ed7ce53b",
   "metadata": {},
   "source": [
    "# Q18 I implement code to find the intersection of two given lists"
   ]
  },
  {
   "cell_type": "code",
   "execution_count": 40,
   "id": "0b3b04f7",
   "metadata": {},
   "outputs": [
    {
     "name": "stdout",
     "output_type": "stream",
     "text": [
      "[3, 4]\n"
     ]
    }
   ],
   "source": [
    "list1=[1,2,3,4]\n",
    "list2=[3,4,5,6]\n",
    "intersection=[]\n",
    "for i in list1:\n",
    "    if i in list2 and i not in intersection:\n",
    "        intersection.append(i)\n",
    "print(intersection)\n",
    "        \n"
   ]
  },
  {
   "cell_type": "markdown",
   "id": "141fba7f",
   "metadata": {},
   "source": [
    "# Q19 Create a code to find the union of two lists without duplicates"
   ]
  },
  {
   "cell_type": "code",
   "execution_count": 41,
   "id": "58ba65eb",
   "metadata": {},
   "outputs": [
    {
     "name": "stdout",
     "output_type": "stream",
     "text": [
      "[1, 2, 3, 4, 5, 6, 7]\n"
     ]
    }
   ],
   "source": [
    "list1 = [1, 2, 3, 4, 5]\n",
    "list2 = [3, 4, 5, 6, 7]\n",
    "\n",
    "union_list = []\n",
    "\n",
    "for item in list1:\n",
    "    if item not in union_list:\n",
    "        union_list.append(item)\n",
    "\n",
    "for item in list2:\n",
    "    if item not in union_list:\n",
    "        union_list.append(item)\n",
    "\n",
    "print(union_list)"
   ]
  },
  {
   "cell_type": "markdown",
   "id": "2b4042ce",
   "metadata": {},
   "source": [
    "# Q20 Write a code to shuffle a given list randomly without using any built-in shuffle function"
   ]
  },
  {
   "cell_type": "code",
   "execution_count": 42,
   "id": "7b45c8b3",
   "metadata": {},
   "outputs": [
    {
     "name": "stdout",
     "output_type": "stream",
     "text": [
      "[5, 9, 1, 3, 2, 4, 7, 10, 8, 6]\n"
     ]
    }
   ],
   "source": [
    "import random\n",
    "\n",
    "numbers = [1, 2, 3, 4, 5, 6, 7, 8, 9, 10]\n",
    "\n",
    "for i in range(len(numbers) - 1, 0, -1):\n",
    "    j = random.randint(0, i)\n",
    "    numbers[i], numbers[j] = numbers[j], numbers[i]\n",
    "\n",
    "print(numbers)"
   ]
  },
  {
   "cell_type": "markdown",
   "id": "6bc06e95",
   "metadata": {},
   "source": [
    "# Q21 Write a code that takes two tuples as input and returns a new tuple containing elements that are common to both input tuples."
   ]
  },
  {
   "cell_type": "code",
   "execution_count": 43,
   "id": "995433c1",
   "metadata": {},
   "outputs": [
    {
     "name": "stdout",
     "output_type": "stream",
     "text": [
      "(3, 4, 5)\n"
     ]
    }
   ],
   "source": [
    "tuple1 = (1, 2, 3, 4, 5)\n",
    "tuple2 = (3, 4, 5, 6, 7)\n",
    "\n",
    "common_elements = tuple(set(tuple1).intersection(set(tuple2)))\n",
    "\n",
    "print(common_elements)"
   ]
  },
  {
   "cell_type": "markdown",
   "id": "16ffa877",
   "metadata": {},
   "source": [
    "# Q22 Create a code that prompts the user to enter two sets of integers separated by spaces. Then, print the intersection of these two sets"
   ]
  },
  {
   "cell_type": "code",
   "execution_count": 44,
   "id": "4acbe11f",
   "metadata": {},
   "outputs": [
    {
     "name": "stdout",
     "output_type": "stream",
     "text": [
      "Enter the first set of integers separated by spaces: 1 2 3 4 5\n",
      "Enter the second set of integers separated by spaces: 4 5 6 7 7\n",
      "Intersection of the two sets: {4, 5}\n"
     ]
    }
   ],
   "source": [
    "set1 = set(map(int, input(\"Enter the first set of integers separated by spaces: \").split()))\n",
    "set2 = set(map(int, input(\"Enter the second set of integers separated by spaces: \").split()))\n",
    "\n",
    "intersection = set1.intersection(set2)\n",
    "\n",
    "print(\"Intersection of the two sets:\", intersection)"
   ]
  },
  {
   "cell_type": "markdown",
   "id": "3adbcad1",
   "metadata": {},
   "source": [
    "# Q23 Write a code to concatenate two tuples. The function should take two tuples as input and return a new tuple containing elements from both input tuples."
   ]
  },
  {
   "cell_type": "code",
   "execution_count": 45,
   "id": "2b28cada",
   "metadata": {},
   "outputs": [
    {
     "name": "stdout",
     "output_type": "stream",
     "text": [
      "(1, 2, 3, 4, 5, 6)\n"
     ]
    }
   ],
   "source": [
    "tuple1 = (1, 2, 3)\n",
    "tuple2 = (4, 5, 6)\n",
    "\n",
    "concatenated_tuple = tuple1 + tuple2\n",
    "\n",
    "print(concatenated_tuple)"
   ]
  },
  {
   "cell_type": "markdown",
   "id": "be41a5f4",
   "metadata": {},
   "source": [
    "# Q24 Develop code that prompts the user to input two sets of strings. Then, print the elements that are present in the first set but not in the second set."
   ]
  },
  {
   "cell_type": "code",
   "execution_count": 27,
   "id": "3a681732",
   "metadata": {},
   "outputs": [
    {
     "name": "stdout",
     "output_type": "stream",
     "text": [
      "Enter the first set of strings separated by spaces: 1 2 3 4 4 5 6\n",
      "Enter the second set of strings separated by spaces: 3 4 5 6 7 8 9\n",
      "Elements in the first set but not in the second set: {'1', '2'}\n"
     ]
    }
   ],
   "source": [
    "set1 = set(input(\"Enter the first set of strings separated by spaces: \").split())\n",
    "set2 = set(input(\"Enter the second set of strings separated by spaces: \").split())\n",
    "\n",
    "difference = set1 - set2\n",
    "\n",
    "print(\"Elements in the first set but not in the second set:\", difference)"
   ]
  },
  {
   "cell_type": "markdown",
   "id": "a0bee775",
   "metadata": {},
   "source": [
    "# Q25 Create a code that takes a tuple and two integers as input. The function should return a new tuple containing elements from the original tuple within the specified range of indices"
   ]
  },
  {
   "cell_type": "code",
   "execution_count": 46,
   "id": "29aa0384",
   "metadata": {},
   "outputs": [
    {
     "name": "stdout",
     "output_type": "stream",
     "text": [
      "(2, 3, 4)\n"
     ]
    }
   ],
   "source": [
    "original_tuple = (1, 2, 3, 4, 5)\n",
    "start_index = 1\n",
    "end_index = 4\n",
    "\n",
    "sliced_tuple = original_tuple[start_index:end_index]\n",
    "\n",
    "print(sliced_tuple)  "
   ]
  },
  {
   "cell_type": "markdown",
   "id": "0681f901",
   "metadata": {},
   "source": [
    "# Q26 Write a code that prompts the user to input two sets of characters. Then, print the union of these two sets"
   ]
  },
  {
   "cell_type": "code",
   "execution_count": 47,
   "id": "26961b11",
   "metadata": {},
   "outputs": [
    {
     "name": "stdout",
     "output_type": "stream",
     "text": [
      "Enter the first set of characters separated by spaces: 2 3 4 5 6 7\n",
      "Enter the second set of characters separated by spaces: 1 2 3 4 5 6\n",
      "Union of the two sets: {'1', '6', '5', '4', '3', '2', '7'}\n"
     ]
    }
   ],
   "source": [
    "set1 = set(input(\"Enter the first set of characters separated by spaces: \").split())\n",
    "set2 = set(input(\"Enter the second set of characters separated by spaces: \").split())\n",
    "\n",
    "union = set2.union(set1)\n",
    "\n",
    "print(\"Union of the two sets:\", union)"
   ]
  },
  {
   "cell_type": "markdown",
   "id": "4562776f",
   "metadata": {},
   "source": [
    "# Q27 Develop code that takes a tuple of integers as input. The function should return the maximum and minimum values from the tuple using tuple unpacking.\""
   ]
  },
  {
   "cell_type": "code",
   "execution_count": 48,
   "id": "7593b7be",
   "metadata": {},
   "outputs": [
    {
     "name": "stdout",
     "output_type": "stream",
     "text": [
      "Maximum value: 30\n",
      "Minimum value: 5\n"
     ]
    }
   ],
   "source": [
    "tuple_of_integers = (10, 5, 20, 15, 30, 25)\n",
    "\n",
    "maximum = max(tuple_of_integers)\n",
    "minimum = min(tuple_of_integers)\n",
    "\n",
    "print(\"Maximum value:\", maximum)\n",
    "print(\"Minimum value:\", minimum)"
   ]
  },
  {
   "cell_type": "markdown",
   "id": "3e98552c",
   "metadata": {},
   "source": [
    "# Q28 Create a code that defines two sets of integers. Then, print the union, intersection, and difference of these two sets."
   ]
  },
  {
   "cell_type": "code",
   "execution_count": 49,
   "id": "80d119a4",
   "metadata": {},
   "outputs": [
    {
     "name": "stdout",
     "output_type": "stream",
     "text": [
      "Union: {1, 2, 3, 4, 5, 6, 7}\n",
      "Intersection: {3, 4, 5}\n",
      "Difference: {1, 2}\n"
     ]
    }
   ],
   "source": [
    "set1 = {1, 2, 3, 4, 5}\n",
    "set2 = {3, 4, 5, 6, 7}\n",
    "\n",
    "union = set1.union(set2)\n",
    "intersection = set1.intersection(set2)\n",
    "difference = set1 - set2\n",
    "\n",
    "print(\"Union:\", union)\n",
    "print(\"Intersection:\", intersection)\n",
    "print(\"Difference:\", difference)"
   ]
  },
  {
   "cell_type": "markdown",
   "id": "3909e364",
   "metadata": {},
   "source": [
    "# Q29 Write a code that takes a tuple and an element as input. The function should return the count of occurrences of the given element in the tuple"
   ]
  },
  {
   "cell_type": "code",
   "execution_count": 50,
   "id": "27f84283",
   "metadata": {},
   "outputs": [
    {
     "name": "stdout",
     "output_type": "stream",
     "text": [
      "3\n"
     ]
    }
   ],
   "source": [
    "tuple_to_search = (1, 2, 3, 2, 4, 2, 5)\n",
    "element_to_count = 2\n",
    "\n",
    "count = 0\n",
    "for item in tuple_to_search:\n",
    "    if item == element_to_count:\n",
    "        count += 1\n",
    "\n",
    "print(count) "
   ]
  },
  {
   "cell_type": "markdown",
   "id": "8d4c9de0",
   "metadata": {},
   "source": [
    "# Q30 Develop code that prompts the user to input two sets of strings. Then, print the symmetric difference of these two sets"
   ]
  },
  {
   "cell_type": "code",
   "execution_count": 51,
   "id": "c7fa61f0",
   "metadata": {},
   "outputs": [
    {
     "name": "stdout",
     "output_type": "stream",
     "text": [
      "Enter the first set of strings separated by spaces: 2 3 4 5 6 7\n",
      "Enter the second set of strings separated by spaces: 2 1 5 7 8\n",
      "Symmetric difference of the two sets: {'1', '8', '6', '4', '3'}\n"
     ]
    }
   ],
   "source": [
    "set1 = set(input(\"Enter the first set of strings separated by spaces: \").split())\n",
    "set2 = set(input(\"Enter the second set of strings separated by spaces: \").split())\n",
    "\n",
    "symmetric_difference = set1 ^ set2\n",
    "\n",
    "print(\"Symmetric difference of the two sets:\", symmetric_difference)"
   ]
  },
  {
   "cell_type": "markdown",
   "id": "7de774cb",
   "metadata": {},
   "source": [
    "# Q31 Write a code that takes a list of words as input and returns a dictionary where the keys are unique words and the values are the frequencies\n",
    "\n",
    " of those words in the input list"
   ]
  },
  {
   "cell_type": "code",
   "execution_count": 52,
   "id": "e1609c49",
   "metadata": {},
   "outputs": [
    {
     "name": "stdout",
     "output_type": "stream",
     "text": [
      "{'apple': 3, 'banana': 2, 'orange': 1}\n"
     ]
    }
   ],
   "source": [
    "input_list = [\"apple\", \"banana\", \"apple\", \"orange\", \"banana\", \"apple\"]\n",
    "\n",
    "word_frequency = {}\n",
    "for word in input_list:\n",
    "    if word in word_frequency:\n",
    "        word_frequency[word] += 1\n",
    "    else:\n",
    "        word_frequency[word] = 1\n",
    "\n",
    "print(word_frequency)"
   ]
  },
  {
   "cell_type": "markdown",
   "id": "1a60123c",
   "metadata": {},
   "source": [
    "# Q32 Write a code that takes two dictionaries as input and merges them into a single dictionary. If there are common keys, the values shouldbe added together."
   ]
  },
  {
   "cell_type": "code",
   "execution_count": 53,
   "id": "616e96a7",
   "metadata": {},
   "outputs": [
    {
     "name": "stdout",
     "output_type": "stream",
     "text": [
      "{'a': 1, 'b': 6, 'c': 3, 'd': 5}\n"
     ]
    }
   ],
   "source": [
    "dict1 = {\"a\": 1, \"b\": 2, \"c\": 3}\n",
    "dict2 = {\"b\": 4, \"d\": 5}\n",
    "\n",
    "merged_dict = dict1.copy()\n",
    "for key, value in dict2.items():\n",
    "    if key in merged_dict:\n",
    "        merged_dict[key] += value\n",
    "    else:\n",
    "        merged_dict[key] = value\n",
    "\n",
    "print(merged_dict)"
   ]
  },
  {
   "cell_type": "markdown",
   "id": "74ed1f52",
   "metadata": {},
   "source": [
    "# Q34 Write a code that takes a dictionary as input and returns a sorted version of it based on the values. You can choose whether to sort in ascending or descending order."
   ]
  },
  {
   "cell_type": "code",
   "execution_count": 54,
   "id": "670056b0",
   "metadata": {},
   "outputs": [
    {
     "name": "stdout",
     "output_type": "stream",
     "text": [
      "[('b', 1), ('c', 2), ('a', 3)]\n",
      "[('a', 3), ('c', 2), ('b', 1)]\n"
     ]
    }
   ],
   "source": [
    "input_dict = {\"a\": 3, \"b\": 1, \"c\": 2}\n",
    "\n",
    "\n",
    "sorted_dict_ascending = sorted(input_dict.items(), key=lambda x: x[1])\n",
    "print(sorted_dict_ascending)\n",
    "\n",
    "\n",
    "sorted_dict_descending = sorted(input_dict.items(), key=lambda x: x[1], reverse=True)\n",
    "print(sorted_dict_descending)"
   ]
  },
  {
   "cell_type": "markdown",
   "id": "7e2aa3fd",
   "metadata": {},
   "source": [
    "# Q35 Write a code that inverts a dictionary, swapping keys and values. Ensure that the inverted dictionary correctly handles cases where multiple keys have the same value by storing the keys as a list in the inverted dictionary"
   ]
  },
  {
   "cell_type": "code",
   "execution_count": 55,
   "id": "d5da8a88",
   "metadata": {},
   "outputs": [
    {
     "name": "stdout",
     "output_type": "stream",
     "text": [
      "{1: ['a'], 2: ['b', 'c'], 3: ['d']}\n"
     ]
    }
   ],
   "source": [
    "input_dict = {\"a\": 1, \"b\": 2, \"c\": 2, \"d\": 3}\n",
    "\n",
    "inverted_dict = {}\n",
    "for key, value in input_dict.items():\n",
    "    if value in inverted_dict:\n",
    "        inverted_dict[value].append(key)\n",
    "    else:\n",
    "        inverted_dict[value] = [key]\n",
    "\n",
    "print(inverted_dict)"
   ]
  },
  {
   "cell_type": "code",
   "execution_count": null,
   "id": "e09902e7",
   "metadata": {},
   "outputs": [],
   "source": []
  }
 ],
 "metadata": {
  "kernelspec": {
   "display_name": "Python 3 (ipykernel)",
   "language": "python",
   "name": "python3"
  },
  "language_info": {
   "codemirror_mode": {
    "name": "ipython",
    "version": 3
   },
   "file_extension": ".py",
   "mimetype": "text/x-python",
   "name": "python",
   "nbconvert_exporter": "python",
   "pygments_lexer": "ipython3",
   "version": "3.9.13"
  }
 },
 "nbformat": 4,
 "nbformat_minor": 5
}
